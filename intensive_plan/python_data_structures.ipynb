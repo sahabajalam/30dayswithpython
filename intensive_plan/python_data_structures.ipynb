{
 "cells": [
  {
   "cell_type": "markdown",
   "id": "039f0aff",
   "metadata": {},
   "source": [
    "### List creation"
   ]
  },
  {
   "cell_type": "code",
   "execution_count": 12,
   "id": "8ec4ede4",
   "metadata": {},
   "outputs": [],
   "source": [
    "empty_list=[]\n",
    "numbers=[1,2,3,4,5,6,7,8,9,10]\n",
    "mixed = [1, \"two\", 3.0, True, None]"
   ]
  },
  {
   "cell_type": "code",
   "execution_count": 14,
   "id": "04da1f89",
   "metadata": {},
   "outputs": [],
   "source": [
    "numbers.sort()"
   ]
  },
  {
   "cell_type": "markdown",
   "id": "bb936201",
   "metadata": {},
   "source": [
    "#### Access"
   ]
  },
  {
   "cell_type": "code",
   "execution_count": 5,
   "id": "ff38e5d4",
   "metadata": {},
   "outputs": [
    {
     "name": "stdout",
     "output_type": "stream",
     "text": [
      "3\n"
     ]
    }
   ],
   "source": [
    "third = numbers[2]\n",
    "print(third)  # Output: 3"
   ]
  },
  {
   "cell_type": "code",
   "execution_count": 9,
   "id": "5fda84f5",
   "metadata": {},
   "outputs": [
    {
     "name": "stdout",
     "output_type": "stream",
     "text": [
      "[2, 3, 4, 5]\n"
     ]
    }
   ],
   "source": [
    "two_to_five = numbers[1:5]\n",
    "print(two_to_five)  # Output: [2, 3, 4]"
   ]
  },
  {
   "cell_type": "code",
   "execution_count": 11,
   "id": "4cf79aa7",
   "metadata": {},
   "outputs": [
    {
     "name": "stdout",
     "output_type": "stream",
     "text": [
      "None\n"
     ]
    }
   ],
   "source": [
    "two_to_six = two_to_five.append(6)\n",
    "print(two_to_six)  # Output: [2, 3, 4, 6]"
   ]
  },
  {
   "cell_type": "code",
   "execution_count": null,
   "id": "3a1e54dc",
   "metadata": {},
   "outputs": [],
   "source": []
  },
  {
   "cell_type": "code",
   "execution_count": null,
   "id": "84827699",
   "metadata": {},
   "outputs": [],
   "source": []
  },
  {
   "cell_type": "code",
   "execution_count": null,
   "id": "c4342d0f",
   "metadata": {},
   "outputs": [],
   "source": []
  },
  {
   "cell_type": "code",
   "execution_count": 12,
   "id": "2d4d017f",
   "metadata": {},
   "outputs": [],
   "source": [
    "list=[\"apple\", \"banana\", \"orange\", \"kiwi\", \"mango\"]"
   ]
  },
  {
   "cell_type": "code",
   "execution_count": 13,
   "id": "582983b8",
   "metadata": {},
   "outputs": [
    {
     "name": "stdout",
     "output_type": "stream",
     "text": [
      "Original list: ['apple', 'banana', 'orange', 'kiwi', 'mango']\n"
     ]
    }
   ],
   "source": [
    "print(\"Original list:\", list)"
   ]
  },
  {
   "cell_type": "code",
   "execution_count": 14,
   "id": "e9937113",
   "metadata": {},
   "outputs": [],
   "source": [
    "list.append(\"grape\")"
   ]
  },
  {
   "cell_type": "code",
   "execution_count": 15,
   "id": "d4dad9da",
   "metadata": {},
   "outputs": [],
   "source": [
    "list.insert(2, \"strawberry\")"
   ]
  },
  {
   "cell_type": "code",
   "execution_count": 16,
   "id": "aa732efb",
   "metadata": {},
   "outputs": [
    {
     "name": "stdout",
     "output_type": "stream",
     "text": [
      "updated list: ['apple', 'banana', 'strawberry', 'orange', 'kiwi', 'mango', 'grape']\n"
     ]
    }
   ],
   "source": [
    "print(\"updated list:\", list)"
   ]
  },
  {
   "cell_type": "code",
   "execution_count": null,
   "id": "8261d0d0",
   "metadata": {},
   "outputs": [],
   "source": [
    "# ...existing code...\n",
    "\n",
    "# Example list\n",
    "my_list = [\"apple\", \"banana\", \"orange\", \"kiwi\", \"mango\"]\n",
    "print(\"Original list:\", my_list)\n",
    "\n",
    "# Remove first \"banana\"\n",
    "my_list.remove(\"banana\")\n",
    "print(\"After remove('banana'):\", my_list)\n",
    "\n",
    "# Pop the last item\n",
    "popped = my_list.pop()\n",
    "print(\"Popped item:\", popped, \"| List now:\", my_list)\n",
    "\n",
    "# Delete item at index 1\n",
    "del my_list[1]\n",
    "print(\"After del my_list[1]:\", my_list)\n",
    "\n",
    "# Clear the list\n",
    "my_list.clear()\n",
    "print(\"After clear():\", my_list)\n",
    "\n",
    "# ...existing code..."
   ]
  },
  {
   "cell_type": "code",
   "execution_count": 17,
   "id": "817fe13a",
   "metadata": {},
   "outputs": [],
   "source": [
    "list.remove(\"banana\")"
   ]
  },
  {
   "cell_type": "code",
   "execution_count": 18,
   "id": "ba4d2e09",
   "metadata": {},
   "outputs": [
    {
     "name": "stdout",
     "output_type": "stream",
     "text": [
      "Updated list: ['apple', 'strawberry', 'orange', 'kiwi', 'mango', 'grape']\n"
     ]
    }
   ],
   "source": [
    "print(\"Updated list:\", list)"
   ]
  },
  {
   "cell_type": "code",
   "execution_count": 19,
   "id": "1141b47f",
   "metadata": {},
   "outputs": [
    {
     "data": {
      "text/plain": [
       "'orange'"
      ]
     },
     "execution_count": 19,
     "metadata": {},
     "output_type": "execute_result"
    }
   ],
   "source": [
    "list.pop(2)"
   ]
  },
  {
   "cell_type": "code",
   "execution_count": 20,
   "id": "40d4815c",
   "metadata": {},
   "outputs": [
    {
     "name": "stdout",
     "output_type": "stream",
     "text": [
      "Updated list: ['apple', 'strawberry', 'kiwi', 'mango', 'grape']\n"
     ]
    }
   ],
   "source": [
    "print(\"Updated list:\", list)"
   ]
  },
  {
   "cell_type": "code",
   "execution_count": 21,
   "id": "1958fe6b",
   "metadata": {},
   "outputs": [
    {
     "name": "stdout",
     "output_type": "stream",
     "text": [
      "Updated list: ['apple', 'strawberry', 'kiwi', 'grape']\n"
     ]
    }
   ],
   "source": [
    "del list[-2]\n",
    "print(\"Updated list:\", list)"
   ]
  },
  {
   "cell_type": "markdown",
   "id": "538ef89d",
   "metadata": {},
   "source": [
    "### 🟢 List Indexing and Slicing: Given a list of numbers, extract the first 3, last 2, and every other element. Master list indexing. (15 min)"
   ]
  },
  {
   "cell_type": "code",
   "execution_count": 22,
   "id": "705315a4",
   "metadata": {},
   "outputs": [],
   "source": [
    "num_list = [10, 20, 30, 40, 50, 60, 70, 80, 90]"
   ]
  },
  {
   "cell_type": "code",
   "execution_count": 23,
   "id": "66fc17bb",
   "metadata": {},
   "outputs": [
    {
     "name": "stdout",
     "output_type": "stream",
     "text": [
      "First three elements: [10, 20, 30]\n"
     ]
    }
   ],
   "source": [
    "first_3= num_list[:3]\n",
    "print(\"First three elements:\", first_3)"
   ]
  },
  {
   "cell_type": "code",
   "execution_count": 25,
   "id": "d10a7ad3",
   "metadata": {},
   "outputs": [
    {
     "name": "stdout",
     "output_type": "stream",
     "text": [
      "Last two elements: [80, 90]\n"
     ]
    }
   ],
   "source": [
    "lst_two= num_list[-2:]\n",
    "print(\"Last two elements:\", lst_two)"
   ]
  },
  {
   "cell_type": "code",
   "execution_count": 26,
   "id": "b835764a",
   "metadata": {},
   "outputs": [
    {
     "name": "stdout",
     "output_type": "stream",
     "text": [
      "Every other element: [10, 30, 50, 70, 90]\n"
     ]
    }
   ],
   "source": [
    "evy_oth= num_list[::2]\n",
    "print(\"Every other element:\", evy_oth)"
   ]
  },
  {
   "cell_type": "markdown",
   "id": "f5e91a56",
   "metadata": {},
   "source": [
    "### Python Dict"
   ]
  },
  {
   "cell_type": "code",
   "execution_count": 2,
   "id": "24e93c5c",
   "metadata": {},
   "outputs": [
    {
     "name": "stdout",
     "output_type": "stream",
     "text": [
      "<class 'dict'>\n"
     ]
    }
   ],
   "source": [
    "empty_dict = {}\n",
    "print (type(empty_dict))  # Output: <class 'dict'>"
   ]
  },
  {
   "cell_type": "code",
   "execution_count": 3,
   "id": "7e8999ae",
   "metadata": {},
   "outputs": [],
   "source": [
    "my_info = {\"name\": \"Sahabaj Alam\", \"age\": 29, \"city\": \"bournemouth\"}"
   ]
  },
  {
   "cell_type": "code",
   "execution_count": 29,
   "id": "90cbbcb0",
   "metadata": {},
   "outputs": [
    {
     "name": "stdout",
     "output_type": "stream",
     "text": [
      "{'namme': 'Sahabaj Alam', 'age': 29, 'city': 'bournemouth'}\n"
     ]
    }
   ],
   "source": [
    "print(my_info)"
   ]
  },
  {
   "cell_type": "code",
   "execution_count": 34,
   "id": "d3cef4a7",
   "metadata": {},
   "outputs": [
    {
     "data": {
      "text/plain": [
       "'Sahabaj Alam'"
      ]
     },
     "execution_count": 34,
     "metadata": {},
     "output_type": "execute_result"
    }
   ],
   "source": [
    "my_info.get(\"name\")"
   ]
  },
  {
   "cell_type": "code",
   "execution_count": 38,
   "id": "888cfbef",
   "metadata": {},
   "outputs": [
    {
     "data": {
      "text/plain": [
       "'Sahabaj Alam'"
      ]
     },
     "execution_count": 38,
     "metadata": {},
     "output_type": "execute_result"
    }
   ],
   "source": [
    "my_info[\"name\"]"
   ]
  },
  {
   "cell_type": "markdown",
   "id": "9f0ca7ec",
   "metadata": {},
   "source": [
    "### Accessing Dict"
   ]
  },
  {
   "cell_type": "code",
   "execution_count": 6,
   "id": "4d1dd85a",
   "metadata": {},
   "outputs": [
    {
     "data": {
      "text/plain": [
       "29"
      ]
     },
     "execution_count": 6,
     "metadata": {},
     "output_type": "execute_result"
    }
   ],
   "source": [
    "#my_info[\"age\"]\n",
    "my_info.get(\"age\")"
   ]
  },
  {
   "cell_type": "code",
   "execution_count": 7,
   "id": "f715da37",
   "metadata": {},
   "outputs": [
    {
     "data": {
      "text/plain": [
       "29"
      ]
     },
     "execution_count": 7,
     "metadata": {},
     "output_type": "execute_result"
    }
   ],
   "source": [
    "my_info.get(\"age\")"
   ]
  },
  {
   "cell_type": "markdown",
   "id": "317a3662",
   "metadata": {},
   "source": [
    "### Modifying Dictonary\n",
    "#### Dictonmary is mutable. It can be deleted, added or modified "
   ]
  },
  {
   "cell_type": "code",
   "execution_count": 8,
   "id": "251ef775",
   "metadata": {},
   "outputs": [],
   "source": [
    "my_info[\"age\"] = 30"
   ]
  },
  {
   "cell_type": "markdown",
   "id": "373d083d",
   "metadata": {},
   "source": []
  },
  {
   "cell_type": "code",
   "execution_count": 9,
   "id": "4c9e761a",
   "metadata": {},
   "outputs": [],
   "source": [
    "my_info[\"address\"] = \"123 Main St\""
   ]
  },
  {
   "cell_type": "code",
   "execution_count": 10,
   "id": "e34902b3",
   "metadata": {},
   "outputs": [
    {
     "name": "stdout",
     "output_type": "stream",
     "text": [
      "{'name': 'Sahabaj Alam', 'age': 30, 'city': 'bournemouth', 'address': '123 Main St'}\n"
     ]
    }
   ],
   "source": [
    "print(my_info)"
   ]
  },
  {
   "cell_type": "markdown",
   "id": "733f703c",
   "metadata": {},
   "source": [
    "### Delete a key in Dict"
   ]
  },
  {
   "cell_type": "code",
   "execution_count": 11,
   "id": "027221c5",
   "metadata": {},
   "outputs": [],
   "source": [
    "del my_info[\"city\"]"
   ]
  },
  {
   "cell_type": "code",
   "execution_count": 12,
   "id": "b3e0cdbc",
   "metadata": {},
   "outputs": [
    {
     "name": "stdout",
     "output_type": "stream",
     "text": [
      "{'name': 'Sahabaj Alam', 'age': 30, 'address': '123 Main St'}\n"
     ]
    }
   ],
   "source": [
    "print(my_info)"
   ]
  },
  {
   "cell_type": "code",
   "execution_count": 13,
   "id": "4078d740",
   "metadata": {},
   "outputs": [
    {
     "name": "stdout",
     "output_type": "stream",
     "text": [
      "dict_keys(['name', 'age', 'address'])\n"
     ]
    }
   ],
   "source": [
    "print(my_info.keys())"
   ]
  },
  {
   "cell_type": "code",
   "execution_count": 14,
   "id": "0e7b1bb1",
   "metadata": {},
   "outputs": [
    {
     "name": "stdout",
     "output_type": "stream",
     "text": [
      "dict_values(['Sahabaj Alam', 30, '123 Main St'])\n"
     ]
    }
   ],
   "source": [
    "print(my_info.values())"
   ]
  },
  {
   "cell_type": "code",
   "execution_count": 16,
   "id": "bf3e2eb8",
   "metadata": {},
   "outputs": [
    {
     "name": "stdout",
     "output_type": "stream",
     "text": [
      "dict_items([('name', 'Sahabaj Alam'), ('age', 30), ('address', '123 Main St')])\n"
     ]
    }
   ],
   "source": [
    "print(my_info.items())"
   ]
  },
  {
   "cell_type": "markdown",
   "id": "cefeb8ce",
   "metadata": {},
   "source": [
    "### Shallow Copy"
   ]
  },
  {
   "cell_type": "code",
   "execution_count": 17,
   "id": "daa97780",
   "metadata": {},
   "outputs": [],
   "source": [
    "my_info[\"name\"] = \"John Doe\"\n",
    "my_info2 = my_info.copy()"
   ]
  },
  {
   "cell_type": "code",
   "execution_count": 18,
   "id": "1b310326",
   "metadata": {},
   "outputs": [
    {
     "name": "stdout",
     "output_type": "stream",
     "text": [
      "{'name': 'John Doe', 'age': 30, 'address': '123 Main St'}\n",
      "{'name': 'John Doe', 'age': 30, 'address': '123 Main St'}\n"
     ]
    }
   ],
   "source": [
    "print(my_info)\n",
    "print(my_info2)"
   ]
  },
  {
   "cell_type": "code",
   "execution_count": 19,
   "id": "0d576ba4",
   "metadata": {},
   "outputs": [],
   "source": [
    "my_info[\"name\"] = \"John abr\""
   ]
  },
  {
   "cell_type": "code",
   "execution_count": 20,
   "id": "e069a643",
   "metadata": {},
   "outputs": [
    {
     "name": "stdout",
     "output_type": "stream",
     "text": [
      "{'name': 'John abr', 'age': 30, 'address': '123 Main St'}\n",
      "{'name': 'John Doe', 'age': 30, 'address': '123 Main St'}\n"
     ]
    }
   ],
   "source": [
    "print(my_info)\n",
    "print(my_info2)"
   ]
  },
  {
   "cell_type": "code",
   "execution_count": null,
   "id": "7e6c674c",
   "metadata": {},
   "outputs": [],
   "source": [
    "## "
   ]
  }
 ],
 "metadata": {
  "kernelspec": {
   "display_name": ".venv",
   "language": "python",
   "name": "python3"
  },
  "language_info": {
   "codemirror_mode": {
    "name": "ipython",
    "version": 3
   },
   "file_extension": ".py",
   "mimetype": "text/x-python",
   "name": "python",
   "nbconvert_exporter": "python",
   "pygments_lexer": "ipython3",
   "version": "3.11.12"
  }
 },
 "nbformat": 4,
 "nbformat_minor": 5
}
